{
 "cells": [
  {
   "cell_type": "code",
   "execution_count": 21,
   "id": "82e1282c-f808-4bdc-a4f8-68462d6c3cfa",
   "metadata": {},
   "outputs": [
    {
     "name": "stdin",
     "output_type": "stream",
     "text": [
      "Enter the paragraph:  On 12 August 1765, the Mughal emperor appointed the East India Company as the Diwan of Bengal. The actual event most probably took place in Robert Clive’s tent, with a few Englishmen and Indians as witnesses. But in the painting above, the event is shown as a majestic occasion, taking place in a grand setting. The painter was commissioned by Clive to record the memorable events in Clive’s life. The grant of Diwani clearly was one such event in British imagination. As Diwan , the Company became the chief financial administrator of the territory under its control. Now it had to think of administering the land and or anising its revenue resources.This had to be done in a way that could yield enough revenue to meet the growing expenses of the company. A rading company had also to ensure that it could buy the products it needed and sell what it wanted.Over the years, the Company also learnt that it had to move with some caution. Being an alien power, it needed to pacify those who in the past had ruled the countryside, and enjoyed authority and prestige. Those who had held local power had to be controlled but they could not be entirely eliminated. How was this to be done? In this chapter we will see how the Company came to colonise the countryside, organise revenue resources, redefine the rights of people, and produce the crops it wanted.\n",
      "Enter the number of questions:  4\n"
     ]
    },
    {
     "name": "stdout",
     "output_type": "stream",
     "text": [
      "Q1: The grant of Diwani ______ was one such event in British imagination.\n",
      "1. clearly\n",
      "2. control\n",
      "3. people\n",
      "4. Over\n",
      "Correct Options: (a)\n",
      "\n",
      "Q2: Those who had ______ local power had to be controlled but they could not be entirely eliminated.\n",
      "1. by\n",
      "2. held\n",
      "3. came\n",
      "4. in\n",
      "Correct Options: (b)\n",
      "\n",
      "Q3: Being an alien power, it needed ______ pacify those who in the past had ruled the countryside, and enjoyed authority and prestige.\n",
      "1. expenses\n",
      "2. that\n",
      "3. in\n",
      "4. to\n",
      "Correct Options: (d)\n",
      "\n",
      "Q4: Over the years, the Company also learnt ______ it had to move with some caution.\n",
      "1. it\n",
      "2. that\n",
      "3. This\n",
      "4. this\n",
      "Correct Options: (b)\n",
      "\n"
     ]
    }
   ],
   "source": [
    "import spacy\n",
    "import random\n",
    "\n",
    "# Load English language model\n",
    "nlp = spacy.load(\"en_core_web_sm\")\n",
    "\n",
    "def get_mca_questions(context: str, num_questions: int):\n",
    "    doc = nlp(context)\n",
    "\n",
    "    def generate_mcq_with_multiple_correct(question, correct_answers, other_options, options=4):\n",
    "        options = correct_answers + other_options\n",
    "        random.shuffle(options)\n",
    "\n",
    "        mcq = {\n",
    "            \"question\": question,\n",
    "            \"options\": options,\n",
    "            \"correct_answers\": correct_answers\n",
    "        }\n",
    "\n",
    "        return mcq\n",
    "\n",
    "    def generate_variety_question():\n",
    "        sentence = random.choice(list(doc.sents))\n",
    "        blank_word = random.choice([token for token in sentence if not token.is_punct])\n",
    "\n",
    "        question_text = sentence.text.replace(blank_word.text, \"______\")\n",
    "        correct_answers = [blank_word.text]\n",
    "\n",
    "        other_options = [token.text for token in doc if token.is_alpha and token.text != correct_answers[0]]\n",
    "        #num_correct_options = random.randint(1, 1)  # Generate 1 or 2 correct options\n",
    "        #correct_answers.extend(random.sample(other_options, num_correct_options))\n",
    "\n",
    "        num_other_options = 4 - len(correct_answers)\n",
    "        other_options = random.sample(other_options, num_other_options)\n",
    "\n",
    "        mcq = generate_mcq_with_multiple_correct(question_text, correct_answers, other_options)\n",
    "        return mcq\n",
    "\n",
    "    questions = [generate_variety_question() for _ in range(num_questions)]\n",
    "\n",
    "    mca_questions = []\n",
    "    for i, question in enumerate(questions, start=1):\n",
    "        question_str = f\"Q{i}: {question['question']}\\n\"\n",
    "        options_str = \"\"\n",
    "        for j, option in enumerate(question['options']):\n",
    "            options_str += f\"{j+1}. {option}\\n\"\n",
    "\n",
    "        correct_options_formatted = \" & \".join([f\"({chr(97+question['options'].index(ans))})\" for ans in question['correct_answers']])\n",
    "        correct_options_str = f\"Correct Options: {correct_options_formatted}\"\n",
    "\n",
    "        mca_question = f\"{question_str}{options_str}{correct_options_str}\\n\"\n",
    "        mca_questions.append(mca_question)\n",
    "\n",
    "    return mca_questions\n",
    "\n",
    "context = input(\"Enter the paragraph: \")\n",
    "num_questions = int(input(\"Enter the number of questions: \"))\n",
    "mca_questions = get_mca_questions(context, num_questions)\n",
    "for question in mca_questions:\n",
    "    print(question)"
   ]
  },
  {
   "cell_type": "code",
   "execution_count": null,
   "id": "502839de-c468-447c-b915-53511dbea799",
   "metadata": {},
   "outputs": [],
   "source": []
  }
 ],
 "metadata": {
  "kernelspec": {
   "display_name": "Python 3 (ipykernel)",
   "language": "python",
   "name": "python3"
  },
  "language_info": {
   "codemirror_mode": {
    "name": "ipython",
    "version": 3
   },
   "file_extension": ".py",
   "mimetype": "text/x-python",
   "name": "python",
   "nbconvert_exporter": "python",
   "pygments_lexer": "ipython3",
   "version": "3.10.8"
  }
 },
 "nbformat": 4,
 "nbformat_minor": 5
}
